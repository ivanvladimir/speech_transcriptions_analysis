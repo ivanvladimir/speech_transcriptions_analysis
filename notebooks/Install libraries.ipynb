{
 "cells": [
  {
   "cell_type": "markdown",
   "id": "168bc82b-82ec-4878-afc8-25e34949cb9a",
   "metadata": {},
   "source": [
    "# Installing libraries"
   ]
  },
  {
   "cell_type": "markdown",
   "id": "809f6ada-203c-448b-bfff-671023cee909",
   "metadata": {},
   "source": [
    "## Evaluation Libraries\n",
    "\n",
    "* [jiwer](https://pypi.org/project/jiwer/) to measure WER\n",
    "* [levenshtein](https://maxbachmann.github.io/Levenshtein/) to calculate operations on levenshtein\n"
   ]
  },
  {
   "cell_type": "code",
   "execution_count": null,
   "id": "7b3f0dd1-a368-4710-99ba-e37ec1fba55b",
   "metadata": {},
   "outputs": [],
   "source": [
    "!pip install jiwer\n",
    "!pip install levenshtein"
   ]
  },
  {
   "cell_type": "markdown",
   "id": "32087961-4c40-4930-ada4-a915e0820f39",
   "metadata": {},
   "source": [
    "## Installing extra libraries\n",
    "\n",
    "* [ipywidgets](https://pypi.org/project/ipywidgets/) for interactive controls\n",
    "* [rich](https://pypi.org/project/rich/) for color output"
   ]
  }
 ],
 "metadata": {
  "kernelspec": {
   "display_name": "Python 3 (ipykernel)",
   "language": "python",
   "name": "python3"
  },
  "language_info": {
   "codemirror_mode": {
    "name": "ipython",
    "version": 3
   },
   "file_extension": ".py",
   "mimetype": "text/x-python",
   "name": "python",
   "nbconvert_exporter": "python",
   "pygments_lexer": "ipython3",
   "version": "3.8.10"
  }
 },
 "nbformat": 4,
 "nbformat_minor": 5
}
